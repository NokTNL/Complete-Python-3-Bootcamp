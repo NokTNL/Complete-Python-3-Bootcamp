{
 "cells": [
  {
   "cell_type": "code",
   "execution_count": 20,
   "id": "cbf3f75c-7344-4d23-9416-6c45fd5b3a94",
   "metadata": {},
   "outputs": [],
   "source": [
    "data_file = open('08-data.txt')"
   ]
  },
  {
   "cell_type": "code",
   "execution_count": 22,
   "id": "89aaa6f3-888c-4fb4-9c08-5d419a32d6b4",
   "metadata": {},
   "outputs": [
    {
     "data": {
      "text/plain": [
       "''"
      ]
     },
     "execution_count": 22,
     "metadata": {},
     "output_type": "execute_result"
    }
   ],
   "source": [
    "# This reads the WHOLE file, and move the reading \"cursor\" to the EOF\n",
    "data_file.read()"
   ]
  },
  {
   "cell_type": "code",
   "execution_count": 9,
   "id": "50632c5a-cee3-486d-8b11-9c793bf669d8",
   "metadata": {},
   "outputs": [
    {
     "data": {
      "text/plain": [
       "''"
      ]
     },
     "execution_count": 9,
     "metadata": {},
     "output_type": "execute_result"
    }
   ],
   "source": [
    "data_file.read() # Doing this again will only give you empty string"
   ]
  },
  {
   "cell_type": "code",
   "execution_count": 11,
   "id": "55ca4bc3-b3d3-4e13-9146-2e9bbc1da623",
   "metadata": {},
   "outputs": [
    {
     "data": {
      "text/plain": [
       "0"
      ]
     },
     "execution_count": 11,
     "metadata": {},
     "output_type": "execute_result"
    }
   ],
   "source": [
    "# To move the \"cursor\" back to the start of the file:\n",
    "data_file.seek(0)"
   ]
  },
  {
   "cell_type": "code",
   "execution_count": 16,
   "id": "72c00166-12c9-4460-96fb-51bafa6e3903",
   "metadata": {},
   "outputs": [
    {
     "data": {
      "text/plain": [
       "['Line 1 \\n', 'Line 2']"
      ]
     },
     "execution_count": 16,
     "metadata": {},
     "output_type": "execute_result"
    }
   ],
   "source": [
    "data_file.seek(0)\n",
    "# This also reads the whole file and move the cursor to the end, but each lines are split into items of a list\n",
    "data_file.readlines()"
   ]
  },
  {
   "cell_type": "code",
   "execution_count": 17,
   "id": "675e1fea-4f09-4395-9bff-0b2298398360",
   "metadata": {},
   "outputs": [],
   "source": [
    "data_file.close()"
   ]
  },
  {
   "cell_type": "code",
   "execution_count": 26,
   "id": "a63c40f9-062a-44a8-a96e-431f88ae7a00",
   "metadata": {},
   "outputs": [
    {
     "name": "stdout",
     "output_type": "stream",
     "text": [
      "Hey mom!\n",
      "\n"
     ]
    }
   ],
   "source": [
    "with open('08-data-write.txt', 'w') as test_file:\n",
    "    test_file.write('Hey mom!\\n')\n",
    "with open('08-data-write.txt', 'r') as test_file:\n",
    "    print(test_file.read())"
   ]
  },
  {
   "cell_type": "code",
   "execution_count": null,
   "id": "9daf2597-8824-4069-aecf-e91cc85d621c",
   "metadata": {},
   "outputs": [],
   "source": []
  }
 ],
 "metadata": {
  "kernelspec": {
   "display_name": "Python 3 (ipykernel)",
   "language": "python",
   "name": "python3"
  },
  "language_info": {
   "codemirror_mode": {
    "name": "ipython",
    "version": 3
   },
   "file_extension": ".py",
   "mimetype": "text/x-python",
   "name": "python",
   "nbconvert_exporter": "python",
   "pygments_lexer": "ipython3",
   "version": "3.10.13"
  }
 },
 "nbformat": 4,
 "nbformat_minor": 5
}
